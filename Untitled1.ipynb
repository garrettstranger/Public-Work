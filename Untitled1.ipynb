{
 "cells": [
  {
   "cell_type": "code",
   "execution_count": null,
   "metadata": {
    "collapsed": true
   },
   "outputs": [],
   "source": [
    "from IPython.core.display import HTML\n",
    "HTML('''\n",
    "<script>\n",
    "var logoParent = document.getElementById(\"kernel_logo_widget\")\n",
    "var logo = document.getElementById(\"kernel_logo_widget\").getElementsByClassName(\"current_kernel\")\n",
    "logo.src = \"https://media.licdn.com/dms/image/C560BAQF_CQrkEKGObg/company-logo_200_200/0?e=2128291200&v=beta&t=OQVF0TRa0L9lCTAFE_paQA4b-z6iAOZ_u2fQAj0Oc3g\";\n",
    "logo.style = \"display: inline; width: 138px; height: 40px;\n",
    "logoParent.innerHTML = '<a href=\"https://www.islandparkgroup.com/\">\n",
    "''')"
   ]
  }
 ],
 "metadata": {
  "kernelspec": {
   "display_name": "Python 3",
   "language": "python",
   "name": "python3"
  },
  "language_info": {
   "codemirror_mode": {
    "name": "ipython",
    "version": 3
   },
   "file_extension": ".py",
   "mimetype": "text/x-python",
   "name": "python",
   "nbconvert_exporter": "python",
   "pygments_lexer": "ipython3",
   "version": "3.6.1"
  }
 },
 "nbformat": 4,
 "nbformat_minor": 2
}
